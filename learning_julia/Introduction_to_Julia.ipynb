{
 "cells": [
  {
   "cell_type": "code",
   "execution_count": 1,
   "id": "264828c0",
   "metadata": {},
   "outputs": [
    {
     "name": "stdout",
     "output_type": "stream",
     "text": [
      "Im so fucking excited to learn julia!\n"
     ]
    }
   ],
   "source": [
    "println(\"Im so fucking excited to learn julia!\")"
   ]
  },
  {
   "cell_type": "markdown",
   "id": "4a79ed97",
   "metadata": {},
   "source": [
    "ASSIGNING VARIABLES"
   ]
  },
  {
   "cell_type": "code",
   "execution_count": 2,
   "id": "99b59ae3",
   "metadata": {},
   "outputs": [
    {
     "data": {
      "text/plain": [
       "Int64"
      ]
     },
     "execution_count": 2,
     "metadata": {},
     "output_type": "execute_result"
    }
   ],
   "source": [
    "my_answer = 42\n",
    "typeof(my_answer)"
   ]
  },
  {
   "cell_type": "code",
   "execution_count": 3,
   "id": "d12655a2",
   "metadata": {},
   "outputs": [
    {
     "data": {
      "text/plain": [
       "Float64"
      ]
     },
     "execution_count": 3,
     "metadata": {},
     "output_type": "execute_result"
    }
   ],
   "source": [
    "my_pi = 3.14159\n",
    "typeof(my_pi)"
   ]
  },
  {
   "cell_type": "code",
   "execution_count": 8,
   "id": "14e4adf3",
   "metadata": {},
   "outputs": [
    {
     "data": {
      "text/plain": [
       "String"
      ]
     },
     "execution_count": 8,
     "metadata": {},
     "output_type": "execute_result"
    }
   ],
   "source": [
    "😸 = \"smiley cat!\"\n",
    "typeof(😸)"
   ]
  },
  {
   "cell_type": "code",
   "execution_count": 10,
   "id": "88781f17",
   "metadata": {},
   "outputs": [
    {
     "data": {
      "text/plain": [
       "-1"
      ]
     },
     "execution_count": 10,
     "metadata": {},
     "output_type": "execute_result"
    }
   ],
   "source": [
    "🙉 = 1\n",
    "😃 = 0\n",
    "🥪 = -1"
   ]
  },
  {
   "cell_type": "code",
   "execution_count": 11,
   "id": "7549d709",
   "metadata": {},
   "outputs": [
    {
     "data": {
      "text/plain": [
       "true"
      ]
     },
     "execution_count": 11,
     "metadata": {},
     "output_type": "execute_result"
    }
   ],
   "source": [
    "🙉 + 🥪 == 😃"
   ]
  },
  {
   "cell_type": "markdown",
   "id": "637bcd5f",
   "metadata": {},
   "source": [
    "Commenting"
   ]
  },
  {
   "cell_type": "code",
   "execution_count": 12,
   "id": "d5424f7e",
   "metadata": {},
   "outputs": [],
   "source": [
    "# normal commenting\n",
    "#= \n",
    "mutli-line commenting\n",
    "ur mum\n",
    "ur mum\n",
    "ur mum\n",
    "=#\n"
   ]
  },
  {
   "cell_type": "markdown",
   "id": "98080f40",
   "metadata": {},
   "source": [
    "Convert function"
   ]
  },
  {
   "cell_type": "code",
   "execution_count": 14,
   "id": "cef8f4a1",
   "metadata": {},
   "outputs": [
    {
     "data": {
      "text/plain": [
       "4.0"
      ]
     },
     "execution_count": 14,
     "metadata": {},
     "output_type": "execute_result"
    }
   ],
   "source": [
    "convert(Float64, 4)\n",
    "#convert function changes the data type of variables"
   ]
  },
  {
   "cell_type": "code",
   "execution_count": 15,
   "id": "e2089559",
   "metadata": {},
   "outputs": [
    {
     "data": {
      "text/plain": [
       "365"
      ]
     },
     "execution_count": 15,
     "metadata": {},
     "output_type": "execute_result"
    }
   ],
   "source": [
    "days = 365"
   ]
  },
  {
   "cell_type": "code",
   "execution_count": 16,
   "id": "a2d63b43",
   "metadata": {},
   "outputs": [
    {
     "data": {
      "text/plain": [
       "365.0"
      ]
     },
     "execution_count": 16,
     "metadata": {},
     "output_type": "execute_result"
    }
   ],
   "source": [
    "days_float = convert(Float64, days)"
   ]
  },
  {
   "cell_type": "code",
   "execution_count": 17,
   "id": "77e4ba0e",
   "metadata": {},
   "outputs": [
    {
     "ename": "LoadError",
     "evalue": "MethodError: \u001b[0mCannot `convert` an object of type \u001b[92mString\u001b[39m\u001b[0m to an object of type \u001b[91mInt64\u001b[39m\n\u001b[0mClosest candidates are:\n\u001b[0m  convert(::Type{T}, \u001b[91m::Ptr\u001b[39m) where T<:Integer at pointer.jl:23\n\u001b[0m  convert(::Type{T}, \u001b[91m::T\u001b[39m) where T<:Number at number.jl:6\n\u001b[0m  convert(::Type{T}, \u001b[91m::Number\u001b[39m) where T<:Number at number.jl:7\n\u001b[0m  ...",
     "output_type": "error",
     "traceback": [
      "MethodError: \u001b[0mCannot `convert` an object of type \u001b[92mString\u001b[39m\u001b[0m to an object of type \u001b[91mInt64\u001b[39m\n\u001b[0mClosest candidates are:\n\u001b[0m  convert(::Type{T}, \u001b[91m::Ptr\u001b[39m) where T<:Integer at pointer.jl:23\n\u001b[0m  convert(::Type{T}, \u001b[91m::T\u001b[39m) where T<:Number at number.jl:6\n\u001b[0m  convert(::Type{T}, \u001b[91m::Number\u001b[39m) where T<:Number at number.jl:7\n\u001b[0m  ...",
      "",
      "Stacktrace:",
      " [1] top-level scope",
      "   @ In[17]:1"
     ]
    }
   ],
   "source": [
    "convert(Int64, \"1\") #cannot convert str to int"
   ]
  },
  {
   "cell_type": "code",
   "execution_count": 23,
   "id": "f46254b5",
   "metadata": {},
   "outputs": [
    {
     "name": "stdout",
     "output_type": "stream",
     "text": [
      "1\n"
     ]
    },
    {
     "ename": "LoadError",
     "evalue": "ArgumentError: invalid base 10 digit 'w' in \"w\"",
     "output_type": "error",
     "traceback": [
      "ArgumentError: invalid base 10 digit 'w' in \"w\"",
      "",
      "Stacktrace:",
      " [1] tryparse_internal(#unused#::Type{Int64}, s::String, startpos::Int64, endpos::Int64, base_::Int64, raise::Bool)",
      "   @ Base ./parse.jl:137",
      " [2] parse(::Type{Int64}, s::String; base::Nothing)",
      "   @ Base ./parse.jl:241",
      " [3] parse(::Type{Int64}, s::String)",
      "   @ Base ./parse.jl:240",
      " [4] top-level scope",
      "   @ In[23]:5"
     ]
    }
   ],
   "source": [
    "eh = parse(Int64, \"1\")\n",
    "typeof(eh) #parses str as int\n",
    "println(eh)"
   ]
  }
 ],
 "metadata": {
  "kernelspec": {
   "display_name": "Julia 1.8.5",
   "language": "julia",
   "name": "julia-1.8"
  },
  "language_info": {
   "file_extension": ".jl",
   "mimetype": "application/julia",
   "name": "julia",
   "version": "1.8.5"
  }
 },
 "nbformat": 4,
 "nbformat_minor": 5
}
