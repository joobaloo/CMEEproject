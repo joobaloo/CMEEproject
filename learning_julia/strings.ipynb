{
 "cells": [
  {
   "cell_type": "markdown",
   "id": "e50c5539",
   "metadata": {},
   "source": [
    "strings can be enclosed in both \"\" and \"\"\""
   ]
  },
  {
   "cell_type": "code",
   "execution_count": 3,
   "id": "610a3071",
   "metadata": {},
   "outputs": [
    {
     "data": {
      "text/plain": [
       "\" ur mum \""
      ]
     },
     "execution_count": 3,
     "metadata": {},
     "output_type": "execute_result"
    }
   ],
   "source": [
    "s1 = \" ur mum \""
   ]
  },
  {
   "cell_type": "code",
   "execution_count": 4,
   "id": "ac108400",
   "metadata": {},
   "outputs": [
    {
     "data": {
      "text/plain": [
       "\" ur mum \""
      ]
     },
     "execution_count": 4,
     "metadata": {},
     "output_type": "execute_result"
    }
   ],
   "source": [
    "s2 = \"\"\" ur mum \"\"\""
   ]
  }
 ],
 "metadata": {
  "kernelspec": {
   "display_name": "Julia 1.8.5",
   "language": "julia",
   "name": "julia-1.8"
  },
  "language_info": {
   "file_extension": ".jl",
   "mimetype": "application/julia",
   "name": "julia",
   "version": "1.8.5"
  }
 },
 "nbformat": 4,
 "nbformat_minor": 5
}
